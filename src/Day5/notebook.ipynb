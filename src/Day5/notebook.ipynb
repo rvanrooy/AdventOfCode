{
 "cells": [
  {
   "cell_type": "code",
   "execution_count": 2,
   "metadata": {
    "collapsed": true,
    "ExecuteTime": {
     "start_time": "2023-12-06T10:21:42.313355Z",
     "end_time": "2023-12-06T10:21:42.584620Z"
    }
   },
   "outputs": [],
   "source": [
    "\n",
    "import java.io.File"
   ]
  },
  {
   "cell_type": "code",
   "execution_count": 3,
   "outputs": [],
   "source": [
    "val input = File(\"part1_test.txt\").readLines()"
   ],
   "metadata": {
    "collapsed": false,
    "ExecuteTime": {
     "start_time": "2023-12-06T10:21:42.526362Z",
     "end_time": "2023-12-06T10:21:43.188019Z"
    }
   }
  },
  {
   "cell_type": "code",
   "execution_count": 4,
   "outputs": [
    {
     "data": {
      "text/plain": "[seeds: 79 14 55 13, , seed-to-soil map:, 50 98 2, 52 50 48, , soil-to-fertilizer map:, 0 15 37, 37 52 2, 39 0 15, , fertilizer-to-water map:, 49 53 8, 0 11 42, 42 0 7, 57 7 4, , water-to-light map:, 88 18 7, 18 25 70, , light-to-temperature map:, 45 77 23, 81 45 19, 68 64 13, , temperature-to-humidity map:, 0 69 1, 1 0 69, , humidity-to-location map:, 60 56 37, 56 93 4]"
     },
     "execution_count": 4,
     "metadata": {},
     "output_type": "execute_result"
    }
   ],
   "source": [
    "\n",
    "\n",
    "\n",
    "\n",
    "input"
   ],
   "metadata": {
    "collapsed": false,
    "ExecuteTime": {
     "start_time": "2023-12-06T10:21:43.121812Z",
     "end_time": "2023-12-06T10:21:44.028655Z"
    }
   }
  },
  {
   "cell_type": "markdown",
   "source": [
    "I now need to store the text map in a way that I can compute a resource, and traverse it across the map without creating each resource, given the the input files uses very large numbers.\n",
    "\n",
    "I need to lookup a resource such as (\"seed\", \"indexNumber\") and compute it from the input fields\n",
    "\n",
    "seed-to-soil map:\n",
    "0 262295201 34634737\n",
    "910271444 3030771176 70771974\n",
    "....\n",
    "\n",
    "any seed between 262295201 and 262295201+34634737 should exist and return the destination resource soil in this case at the computed index.\n",
    "\n",
    "\n",
    "val resourceTypeList = arrayOf(\"seed\",\"soil\", \"fertilizer\", \"water\", \"light\", \"temperature\", \"humidity\", \"location\",\"null\")\n",
    "\n"
   ],
   "metadata": {
    "collapsed": false
   }
  },
  {
   "cell_type": "code",
   "execution_count": null,
   "outputs": [],
   "source": [
    "val start: Long = 123\n",
    "val range: Long = 20\n",
    "\n",
    "start.rangeUntil((start+range))\n"
   ],
   "metadata": {
    "collapsed": false
   }
  }
 ],
 "metadata": {
  "kernelspec": {
   "display_name": "Kotlin",
   "language": "kotlin",
   "name": "kotlin"
  },
  "language_info": {
   "name": "kotlin",
   "version": "1.8.0",
   "mimetype": "text/x-kotlin",
   "file_extension": ".kt",
   "pygments_lexer": "kotlin",
   "codemirror_mode": "text/x-kotlin",
   "nbconvert_exporter": ""
  }
 },
 "nbformat": 4,
 "nbformat_minor": 0
}
